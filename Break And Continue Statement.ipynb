{
 "cells": [
  {
   "cell_type": "code",
   "execution_count": null,
   "id": "0afc6379-5b51-45dd-bbed-fed59ab55980",
   "metadata": {},
   "outputs": [],
   "source": [
    "#1. Print Numbers from 1 to 10, But Stop if the Number is 5\n",
    "\n",
    "for number in range(1, 11):\n",
    "    if number == 5:\n",
    "        break\n",
    "    print(number)"
   ]
  },
  {
   "cell_type": "code",
   "execution_count": null,
   "id": "fe762735-d833-49af-bb94-dae77398361c",
   "metadata": {},
   "outputs": [],
   "source": [
    "#2. Iterate Through a List and Stop When Encountering a Specific Element\n",
    "\n",
    "elements = ['apple', 'banana', 'cherry', 'date', 'fig']\n",
    "target = 'cherry'\n",
    "\n",
    "for element in elements:\n",
    "    if element == target:\n",
    "        break\n",
    "    print(element)"
   ]
  },
  {
   "cell_type": "code",
   "execution_count": null,
   "id": "466ef319-ec0c-4fec-b133-62369a96afd4",
   "metadata": {},
   "outputs": [],
   "source": [
    "#3. Skip Printing Even Numbers from 1 to 10\n",
    "\n",
    "for number in range(1, 11):\n",
    "    if number % 2 == 0:\n",
    "        continue\n",
    "    print(number)"
   ]
  },
  {
   "cell_type": "code",
   "execution_count": null,
   "id": "f4183dd1-f877-4b1e-9196-ce9a02400526",
   "metadata": {},
   "outputs": [],
   "source": [
    "#4. Print Numbers from 0 to 9 Using range()\n",
    "\n",
    "for number in range(10):\n",
    "    print(number)"
   ]
  },
  {
   "cell_type": "code",
   "execution_count": null,
   "id": "0da6441b-2286-4765-bb4a-54ee08314d6b",
   "metadata": {},
   "outputs": [],
   "source": [
    "#5. Print Multiplication Tables from 1 to 5, but Stop After the First Table is Printed for Each Number"
   ]
  },
  {
   "cell_type": "code",
   "execution_count": null,
   "id": "b4a6e264-ec45-49cd-86b7-2d5b0170fe4f",
   "metadata": {},
   "outputs": [],
   "source": []
  }
 ],
 "metadata": {
  "kernelspec": {
   "display_name": "Python 3 (ipykernel)",
   "language": "python",
   "name": "python3"
  },
  "language_info": {
   "codemirror_mode": {
    "name": "ipython",
    "version": 3
   },
   "file_extension": ".py",
   "mimetype": "text/x-python",
   "name": "python",
   "nbconvert_exporter": "python",
   "pygments_lexer": "ipython3",
   "version": "3.12.2"
  }
 },
 "nbformat": 4,
 "nbformat_minor": 5
}
